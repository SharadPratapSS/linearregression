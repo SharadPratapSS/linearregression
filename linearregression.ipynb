{
 "cells": [
  {
   "cell_type": "markdown",
   "id": "f29b36a8-9a54-45e6-b93c-caf0737ae9e4",
   "metadata": {},
   "source": [
    "Q1. Write a Python script to visualize the distribution of errors (residuals) for a multiple linear regression model\r\n",
    "using Seaborn's \"diamonds\" dataset."
   ]
  },
  {
   "cell_type": "code",
   "execution_count": null,
   "id": "037355a8-47ce-4a15-b8d2-add8dcc4dcf4",
   "metadata": {},
   "outputs": [],
   "source": [
    "import seaborn as sns\n",
    "import pandas as pd\n",
    "import numpy as np\n",
    "import matplotlib.pyplot as plt\n",
    "from sklearn.model_selection import train_test_split\n",
    "from sklearn.linear_model import LinearRegression\n",
    "from sklearn.metrics import mean_squared_error\n",
    "\n",
    "\n",
    "diamonds = sns.load_dataset('diamonds')\n",
    "\n",
    "diamonds = diamonds.select_dtypes(include=np.number).dropna()\n",
    "\n",
    "X = diamonds.drop(columns='price')\n",
    "y = diamonds['price']\n",
    "\n",
    "\n",
    "X_train, X_test, y_train, y_test = train_test_split(X, y, test_size=0.2, random_state=42)\n",
    "\n",
    "model = LinearRegression()\n",
    "model.fit(X_train, y_train)\n",
    "\n",
    "y_pred = model.predict(X_test)\n",
    "\n",
    "residuals = y_test - y_pred\n",
    "\n",
    "plt.figure(figsize=(10, 6))\n",
    "sns.histplot(residuals, kde=True, color='blue', bins=30)\n",
    "plt.title('Distribution of Residuals')\n",
    "plt.xlabel('Residuals')\n",
    "plt.ylabel('Frequency')\n",
    "plt.axvline(0, color='red', linestyle='--', label='Zero Error')\n",
    "plt.legend()\n",
    "plt.show()\n"
   ]
  },
  {
   "cell_type": "markdown",
   "id": "a4edfe84-95bd-40dc-a94a-cf71b98544d7",
   "metadata": {},
   "source": [
    "Q2. Write a Python script to calculate and print Mean Squared Error (MSE), Mean Absolute Error (MAE), and Root\n",
    "Mean Squared Error (RMSE) for a linear regression model."
   ]
  },
  {
   "cell_type": "code",
   "execution_count": null,
   "id": "ef898f2d-b445-4cc8-959d-c8f02c91da4a",
   "metadata": {},
   "outputs": [],
   "source": [
    "import numpy as np\n",
    "from sklearn.metrics import mean_squared_error, mean_absolute_error\n",
    "from sklearn.model_selection import train_test_split\n",
    "from sklearn.linear_model import LinearRegression\n",
    "from sklearn.datasets import make_regression\n",
    "\n",
    "X, y = make_regression(n_samples=100, n_features=1, noise=15, random_state=42)\n",
    "X_train, X_test, y_train, y_test = train_test_split(X, y, test_size=0.2, random_state=42)\n",
    "\n",
    "model = LinearRegression()\n",
    "model.fit(X_train, y_train)\n",
    "\n",
    "y_pred = model.predict(X_test)\n",
    "\n",
    "mse = mean_squared_error(y_test, y_pred)\n",
    "mae = mean_absolute_error(y_test, y_pred)\n",
    "rmse = np.sqrt(mse)\n",
    "\n",
    "print(f\"Mean Squared Error (MSE): {mse:.2f}\")\n",
    "print(f\"Mean Absolute Error (MAE): {mae:.2f}\")\n",
    "print(f\"Root Mean Squared Error (RMSE): {rmse:.2f}\")\n"
   ]
  },
  {
   "cell_type": "markdown",
   "id": "bbbd745d-0ff6-4622-a185-cf0231c5a5b1",
   "metadata": {},
   "source": [
    "Q3. Write a Python script to check if the assumptions of linear regression are met. Use a scatter plot to check\r\n",
    "linearity, residuals plot for homoscedasticity, and correlation matrix for multicollinearity."
   ]
  },
  {
   "cell_type": "code",
   "execution_count": null,
   "id": "edeeb17b-7691-4c13-b7b3-72c7be4dbc85",
   "metadata": {},
   "outputs": [],
   "source": [
    "import numpy as np\r\n",
    "import pandas as pd\r\n",
    "import matplotlib.pyplot as plt\r\n",
    "import seaborn as sns\r\n",
    "from sklearn.datasets import make_regression\r\n",
    "from sklearn.linear_model import LinearRegression\r\n",
    "from sklearn.model_selection import train_test_split\r\n",
    "\r\n",
    "# Generate synthetic data\r\n",
    "X, y = make_regression(n_samples=100, n_features=3, noise=15, random_state=42)\r\n",
    "X = pd.DataFrame(X, columns=['Feature1', 'Feature2', 'Feature3'])\r\n",
    "y = pd.Series(y, name='Target')\r\n",
    "\r\n",
    "# Split the dataset\r\n",
    "X_train, X_test, y_train, y_test = train_test_split(X, y, test_size=0.2, random_state=42)\r\n",
    "\r\n",
    "# Fit a linear regression model\r\n",
    "model = LinearRegression()\r\n",
    "model.fit(X_train, y_train)\r\n",
    "y_pred = model.predict(X_test)\r\n",
    "residuals = y_test - y_pred\r\n",
    "\r\n",
    "# Check linearity\r\n",
    "plt.figure(figsize=(8, 5))\r\n",
    "plt.scatter(y_test, y_pred, alpha=0.7, color='blue')\r\n",
    "plt.plot([y_test.min(), y_test.max()], [y_test.min(), y_test.max()], 'r--', label='Perfect Fit')\r\n",
    "plt.title('Linearity Check: Actual vs Predicted')\r\n",
    "plt.xlabel('Actual Values')\r\n",
    "plt.ylabel('Predicted Values')\r\n",
    "plt.legend()\r\n",
    "plt.show()\r\n",
    "\r\n",
    "# Check homoscedasticity\r\n",
    "plt.figure(figsize=(8, 5))\r\n",
    "plt.scatter(y_pred, residuals, alpha=0.7, color='green')\r\n",
    "plt.axhline(0, color='red', linestyle='--', label='Zero Residual')\r\n",
    "plt.title('Homoscedasticity Check: Residuals vs Predicted')\r\n",
    "plt.xlabel('Predicted Values')\r\n",
    "plt.ylabel('Residuals')\r\n",
    "plt.legend()\r\n",
    "plt.show()\r\n",
    "\r\n",
    "# Check multicollinearity using correlation matrix\r\n",
    "correlation_matrix = X.corr()\r\n",
    "plt.figure(figsize=(8, 5))\r\n",
    "sns.heatmap(correlation_matrix, annot=True, cmap='coolwarm', fmt='.2f')\r\n",
    "plt.title('Correlation Matrix (Multicollinearity Check)')\r\n",
    "plt.show()\r\n"
   ]
  },
  {
   "cell_type": "markdown",
   "id": "5b157428-9e40-40d2-a1cb-4d669693d1f5",
   "metadata": {},
   "source": [
    "Q4. Write a Python script that creates a machine learning pipeline with feature scaling and evaluates the\n",
    "performance of different regression models"
   ]
  },
  {
   "cell_type": "code",
   "execution_count": null,
   "id": "c1a37ad7-1aba-42fe-80cd-f7e660f92e42",
   "metadata": {},
   "outputs": [],
   "source": [
    "import numpy as np\n",
    "import pandas as pd\n",
    "from sklearn.datasets import make_regression\n",
    "from sklearn.model_selection import train_test_split, cross_val_score\n",
    "from sklearn.pipeline import Pipeline\n",
    "from sklearn.preprocessing import StandardScaler\n",
    "from sklearn.linear_model import LinearRegression, Ridge, Lasso\n",
    "from sklearn.ensemble import RandomForestRegressor\n",
    "\n",
    "X, y = make_regression(n_samples=200, n_features=5, noise=10, random_state=42)\n",
    "\n",
    "X_train, X_test, y_train, y_test = train_test_split(X, y, test_size=0.2, random_state=42)\n",
    "\n",
    "models = {\n",
    "    \"Linear Regression\": LinearRegression(),\n",
    "    \"Ridge Regression\": Ridge(alpha=1.0),\n",
    "    \"Lasso Regression\": Lasso(alpha=0.1),\n",
    "    \"Random Forest Regressor\": RandomForestRegressor(n_estimators=100, random_state=42)\n",
    "}\n",
    "\n",
    "for name, model in models.items():\n",
    "    pipeline = Pipeline([\n",
    "        (\"scaler\", StandardScaler()),\n",
    "        (\"regressor\", model)\n",
    "    ])\n",
    "    pipeline.fit(X_train, y_train)\n",
    "    score = pipeline.score(X_test, y_test)\n",
    "    print(f\"{name} R-squared: {score:.2f}\")\n"
   ]
  },
  {
   "cell_type": "markdown",
   "id": "df68a991-c8e5-4e2d-9a65-4945ac5c53c8",
   "metadata": {},
   "source": [
    "Q5. Implement a simple linear regression model on a dataset and print the model's coefficients, intercept, and\r\n",
    "R-squared score."
   ]
  },
  {
   "cell_type": "code",
   "execution_count": null,
   "id": "a9cfd62b-4e94-4c83-ae1b-489f97891271",
   "metadata": {},
   "outputs": [],
   "source": [
    "import numpy as np\n",
    "from sklearn.linear_model import LinearRegression\n",
    "from sklearn.model_selection import train_test_split\n",
    "from sklearn.datasets import make_regression\n",
    "\n",
    "X, y = make_regression(n_samples=100, n_features=1, noise=10, random_state=42)\n",
    "X_train, X_test, y_train, y_test = train_test_split(X, y, test_size=0.2, random_state=42)\n",
    "\n",
    "model = LinearRegression()\n",
    "model.fit(X_train, y_train)\n",
    "\n",
    "r_squared = model.score(X_test, y_test)\n",
    "\n",
    "print(f\"Coefficient: {model.coef_[0]:.2f}\")\n",
    "print(f\"Intercept: {model.intercept_:.2f}\")\n",
    "print(f\"R-squared score: {r_squared:.2f}\")\n"
   ]
  },
  {
   "cell_type": "markdown",
   "id": "2e904ee8-ebfb-43c7-a191-f4bd0dd1cf58",
   "metadata": {},
   "source": [
    "Q6. Write a Python script that analyzes the relationship between total bill and tip in the 'tips' dataset using\n",
    "simple linear regression and visualizes the results."
   ]
  },
  {
   "cell_type": "code",
   "execution_count": null,
   "id": "c42c43ba-ea73-4ed1-841e-aad394560f1b",
   "metadata": {},
   "outputs": [],
   "source": [
    "import seaborn as sns\n",
    "import matplotlib.pyplot as plt\n",
    "from sklearn.linear_model import LinearRegression\n",
    "from sklearn.model_selection import train_test_split\n",
    "\n",
    "tips = sns.load_dataset('tips')\n",
    "X = tips[['total_bill']]\n",
    "y = tips['tip']\n",
    "\n",
    "X_train, X_test, y_train, y_test = train_test_split(X, y, test_size=0.2, random_state=42)\n",
    "\n",
    "model = LinearRegression()\n",
    "model.fit(X_train, y_train)\n",
    "\n",
    "y_pred = model.predict(X_test)\n",
    "\n",
    "plt.figure(figsize=(8, 5))\n",
    "plt.scatter(X, y, alpha=0.7, label=\"Data Points\")\n",
    "plt.plot(X_test, y_pred, color='red', label=\"Regression Line\")\n",
    "plt.title(\"Total Bill vs Tip\")\n",
    "plt.xlabel(\"Total Bill\")\n",
    "plt.ylabel(\"Tip\")\n",
    "plt.legend()\n",
    "plt.show()\n"
   ]
  },
  {
   "cell_type": "markdown",
   "id": "70bb19b8-f745-497c-9a14-db682375607e",
   "metadata": {},
   "source": [
    "Q7. Write a Python script that fits a linear regression model to a synthetic dataset with one feature. Use the\n",
    "model to predict new values and plot the data points along with the regression line."
   ]
  },
  {
   "cell_type": "code",
   "execution_count": null,
   "id": "90c717ab-243b-4ac1-9c71-37433d29aa93",
   "metadata": {},
   "outputs": [],
   "source": [
    "import numpy as np\n",
    "import matplotlib.pyplot as plt\n",
    "from sklearn.linear_model import LinearRegression\n",
    "from sklearn.datasets import make_regression\n",
    "\n",
    "X, y = make_regression(n_samples=100, n_features=1, noise=10, random_state=42)\n",
    "\n",
    "model = LinearRegression()\n",
    "model.fit(X, y)\n",
    "\n",
    "X_new = np.linspace(X.min(), X.max(), 100).reshape(-1, 1)\n",
    "y_pred = model.predict(X_new)\n",
    "\n",
    "plt.figure(figsize=(8, 5))\n",
    "plt.scatter(X, y, alpha=0.7, label=\"Data Points\")\n",
    "plt.plot(X_new, y_pred, color='red', label=\"Regression Line\")\n",
    "plt.title(\"Linear Regression on Synthetic Data\")\n",
    "plt.xlabel(\"Feature\")\n",
    "plt.ylabel(\"Target\")\n",
    "plt.legend()\n",
    "plt.show()\n"
   ]
  },
  {
   "cell_type": "markdown",
   "id": "569cc2e1-bf79-4d21-88c7-d009944cfab6",
   "metadata": {},
   "source": [
    "Q8. Write a Python script that pickles a trained linear regression model and saves it to a file."
   ]
  },
  {
   "cell_type": "code",
   "execution_count": null,
   "id": "4947e158-10c8-45a4-b87c-31742b63a06e",
   "metadata": {},
   "outputs": [],
   "source": [
    "import pickle\n",
    "from sklearn.linear_model import LinearRegression\n",
    "from sklearn.datasets import make_regression\n",
    "\n",
    "X, y = make_regression(n_samples=100, n_features=1, noise=10, random_state=42)\n",
    "\n",
    "model = LinearRegression()\n",
    "model.fit(X, y)\n",
    "\n",
    "with open(\"linear_regression_model.pkl\", \"wb\") as file:\n",
    "    pickle.dump(model, file)\n"
   ]
  },
  {
   "cell_type": "markdown",
   "id": "28778780-d316-4143-98c3-3c1d87f65006",
   "metadata": {},
   "source": [
    "Q9. Write a Python script that fits a polynomial regression model (degree 2) to a dataset and plots the\n",
    "regression curve."
   ]
  },
  {
   "cell_type": "code",
   "execution_count": null,
   "id": "908ffc21-c0b7-4082-8285-f1ab252482f5",
   "metadata": {},
   "outputs": [],
   "source": [
    "import numpy as np\n",
    "import matplotlib.pyplot as plt\n",
    "from sklearn.linear_model import LinearRegression\n",
    "from sklearn.preprocessing import PolynomialFeatures\n",
    "from sklearn.datasets import make_regression\n",
    "\n",
    "X, y = make_regression(n_samples=100, n_features=1, noise=10, random_state=42)\n",
    "\n",
    "poly = PolynomialFeatures(degree=2)\n",
    "X_poly = poly.fit_transform(X)\n",
    "\n",
    "model = LinearRegression()\n",
    "model.fit(X_poly, y)\n",
    "\n",
    "X_new = np.linspace(X.min(), X.max(), 100).reshape(-1, 1)\n",
    "X_new_poly = poly.transform(X_new)\n",
    "y_pred = model.predict(X_new_poly)\n",
    "\n",
    "plt.figure(figsize=(8, 5))\n",
    "plt.scatter(X, y, alpha=0.7, label=\"Data Points\")\n",
    "plt.plot(X_new, y_pred, color='red', label=\"Polynomial Regression Line (Degree 2)\")\n",
    "plt.title(\"Polynomial Regression (Degree 2)\")\n",
    "plt.xlabel(\"Feature\")\n",
    "plt.ylabel(\"Target\")\n",
    "plt.legend()\n",
    "plt.show()\n"
   ]
  },
  {
   "cell_type": "markdown",
   "id": "d4fefa91-5a3b-4200-8789-d794adee7e7a",
   "metadata": {},
   "source": [
    "Q10. Generate synthetic data for simple linear regression (use random values for X and y) and fit a linear\n",
    "regression model to the data. Print the model's coefficient and intercept."
   ]
  },
  {
   "cell_type": "code",
   "execution_count": null,
   "id": "2ffa44fd-faff-4a6e-98e8-529b014071f0",
   "metadata": {},
   "outputs": [],
   "source": [
    "import numpy as np\n",
    "from sklearn.linear_model import LinearRegression\n",
    "\n",
    "X = np.random.rand(100, 1) * 10\n",
    "y = 2 * X + 5 + np.random.randn(100, 1) * 2\n",
    "\n",
    "model = LinearRegression()\n",
    "model.fit(X, y)\n",
    "\n",
    "print(f\"Coefficient: {model.coef_[0][0]:.2f}\")\n",
    "print(f\"Intercept: {model.intercept_[0]:.2f}\")\n"
   ]
  },
  {
   "cell_type": "markdown",
   "id": "6940cccd-4de0-4ab6-ac41-fd3da3a21a24",
   "metadata": {},
   "source": [
    "Q11. Write a Python script that fits polynomial regression models of different degrees to a synthetic dataset and\n",
    "compares their performance."
   ]
  },
  {
   "cell_type": "code",
   "execution_count": null,
   "id": "2840adbc-88b9-4f9f-b912-70758a944011",
   "metadata": {},
   "outputs": [],
   "source": [
    "import numpy as np\n",
    "import matplotlib.pyplot as plt\n",
    "from sklearn.linear_model import LinearRegression\n",
    "from sklearn.preprocessing import PolynomialFeatures\n",
    "from sklearn.metrics import mean_squared_error\n",
    "\n",
    "X = np.random.rand(100, 1) * 10\n",
    "y = 2 * X**3 - 5 * X**2 + 3 * X + np.random.randn(100, 1) * 30\n",
    "\n",
    "degrees = [1, 2, 3, 4]\n",
    "mse_scores = []\n",
    "\n",
    "plt.figure(figsize=(8, 5))\n",
    "\n",
    "for degree in degrees:\n",
    "    poly = PolynomialFeatures(degree=degree)\n",
    "    X_poly = poly.fit_transform(X)\n",
    "\n",
    "    model = LinearRegression()\n",
    "    model.fit(X_poly, y)\n",
    "    y_pred = model.predict(X_poly)\n",
    "    \n",
    "    mse = mean_squared_error(y, y_pred)\n",
    "    mse_scores.append(mse)\n",
    "\n",
    "    X_new = np.linspace(X.min(), X.max(), 100).reshape(-1, 1)\n",
    "    X_new_poly = poly.transform(X_new)\n",
    "    y_new_pred = model.predict(X_new_poly)\n",
    "    \n",
    "    plt.plot(X_new, y_new_pred, label=f'Degree {degree} (MSE: {mse:.2f})')\n",
    "\n",
    "plt.scatter(X, y, color='black', alpha=0.7, label='Data Points')\n",
    "plt.title(\"Polynomial Regression of Different Degrees\")\n",
    "plt.xlabel(\"Feature\")\n",
    "plt.ylabel(\"Target\")\n",
    "plt.legend()\n",
    "plt.show()\n",
    "\n",
    "for i, degree in enumerate(degrees):\n",
    "    print(f\"Degree {degree} - MSE: {mse_scores[i]:.2f}\")\n"
   ]
  },
  {
   "cell_type": "markdown",
   "id": "61a6ac83-f9fa-4b18-81f8-ac487fd526ad",
   "metadata": {},
   "source": [
    "Q12. Write a Python script that fits a simple linear regression model with two features and prints the model's\n",
    "coefficients, intercept, and R-squared score."
   ]
  },
  {
   "cell_type": "code",
   "execution_count": null,
   "id": "b77fc79e-af15-48c1-9602-7d25d311bdc8",
   "metadata": {},
   "outputs": [],
   "source": [
    "import numpy as np\n",
    "from sklearn.linear_model import LinearRegression\n",
    "from sklearn.metrics import r2_score\n",
    "\n",
    "# Generate synthetic data\n",
    "X = np.random.rand(100, 2)  # 100 samples, 2 features\n",
    "y = X[:, 0] * 5 + X[:, 1] * 3 + np.random.randn(100)  # Linear relationship with noise\n",
    "\n",
    "# Fit model\n",
    "model = LinearRegression()\n",
    "model.fit(X, y)\n",
    "\n",
    "# Print model coefficients, intercept, and R-squared score\n",
    "print(\"Coefficients:\", model.coef_)\n",
    "print(\"Intercept:\", model.intercept_)\n",
    "print(\"R-squared score:\", r2_score(y, model.predict(X)))\n"
   ]
  },
  {
   "cell_type": "markdown",
   "id": "a5bc3634-fcdc-4c0d-ab98-29505ddbd182",
   "metadata": {},
   "source": [
    "13. Write a Python script that generates synthetic data, fits a linear regression model, and visualizes the\n",
    "regression line along with the data points."
   ]
  },
  {
   "cell_type": "code",
   "execution_count": null,
   "id": "9af7ac84-a61e-404e-8787-a59b9569a414",
   "metadata": {},
   "outputs": [],
   "source": [
    "import numpy as np\n",
    "import matplotlib.pyplot as plt\n",
    "from sklearn.linear_model import LinearRegression\n",
    "\n",
    "# Generate synthetic data\n",
    "X = np.random.rand(100, 1) * 10\n",
    "y = 2 * X + 5 + np.random.randn(100, 1)\n",
    "\n",
    "# Fit model\n",
    "model = LinearRegression()\n",
    "model.fit(X, y)\n",
    "\n",
    "# Visualize data and regression line\n",
    "plt.scatter(X, y, color='blue')\n",
    "plt.plot(X, model.predict(X), color='red')\n",
    "plt.xlabel('X')\n",
    "plt.ylabel('y')\n",
    "plt.title('Linear Regression')\n",
    "plt.show()\n"
   ]
  },
  {
   "cell_type": "markdown",
   "id": "1f144f1b-f45c-41da-bb60-843d1b66f047",
   "metadata": {},
   "source": [
    "14. Write a Python script that uses the Variance Inflation Factor (VIF) to check for multicollinearity in a dataset\n",
    "with multiple features."
   ]
  },
  {
   "cell_type": "code",
   "execution_count": null,
   "id": "0e2b6948-012b-4d2f-9958-459c83572ae5",
   "metadata": {},
   "outputs": [],
   "source": [
    "import pandas as pd\n",
    "import numpy as np\n",
    "from statsmodels.stats.outliers_influence import variance_inflation_factor\n",
    "from statsmodels.tools.tools import add_constant\n",
    "\n",
    "# Generate synthetic data\n",
    "X = np.random.rand(100, 3)\n",
    "X = pd.DataFrame(X, columns=['Feature1', 'Feature2', 'Feature3'])\n",
    "\n",
    "# Add constant for VIF calculation\n",
    "X_const = add_constant(X)\n",
    "\n",
    "# Calculate VIF for each feature\n",
    "vif_data = pd.DataFrame()\n",
    "vif_data[\"Feature\"] = X_const.columns\n",
    "vif_data[\"VIF\"] = [variance_inflation_factor(X_const.values, i) for i in range(X_const.shape[1])]\n",
    "\n",
    "print(vif_data)\n"
   ]
  },
  {
   "cell_type": "markdown",
   "id": "af3e4bb6-1c5b-4fd1-84f1-fdb0d2caa7ce",
   "metadata": {},
   "source": [
    "15. Write a Python script that generates synthetic data for a polynomial relationship (degree 4), fits a\n",
    "polynomial regression model, and plots the regression curve."
   ]
  },
  {
   "cell_type": "code",
   "execution_count": null,
   "id": "f3478b4b-6fc4-4624-8793-7399979093a5",
   "metadata": {},
   "outputs": [],
   "source": [
    "import numpy as np\n",
    "import matplotlib.pyplot as plt\n",
    "from sklearn.preprocessing import PolynomialFeatures\n",
    "from sklearn.linear_model import LinearRegression\n",
    "\n",
    "# Generate synthetic data for a polynomial relationship\n",
    "X = np.random.rand(100, 1) * 10\n",
    "y = X**4 - 2 * X**3 + 5 * X**2 + 3 * X + np.random.randn(100, 1)\n",
    "\n",
    "# Polynomial features (degree 4)\n",
    "poly = PolynomialFeatures(degree=4)\n",
    "X_poly = poly.fit_transform(X)\n",
    "\n",
    "# Fit model\n",
    "model = LinearRegression()\n",
    "model.fit(X_poly, y)\n",
    "\n",
    "# Visualize data and polynomial regression curve\n",
    "plt.scatter(X, y, color='blue')\n",
    "plt.plot(np.sort(X, axis=0), model.predict(poly.transform(np.sort(X, axis=0))), color='red')\n",
    "plt.xlabel('X')\n",
    "plt.ylabel('y')\n",
    "plt.title('Polynomial Regression (Degree 4)')\n",
    "plt.show()\n"
   ]
  },
  {
   "cell_type": "markdown",
   "id": "e55ee6d5-c25a-4ea5-9e37-f2a6594722d8",
   "metadata": {},
   "source": [
    "16. Write a Python script that creates a machine learning pipeline with data standardization and a multiple\n",
    "linear regression model, and prints the R-squared score."
   ]
  },
  {
   "cell_type": "code",
   "execution_count": null,
   "id": "f58827a1-cb66-402c-a833-31d6d6352d20",
   "metadata": {},
   "outputs": [],
   "source": [
    "from sklearn.pipeline import make_pipeline\n",
    "from sklearn.preprocessing import StandardScaler\n",
    "from sklearn.linear_model import LinearRegression\n",
    "from sklearn.datasets import make_regression\n",
    "from sklearn.model_selection import train_test_split\n",
    "\n",
    "# Generate synthetic data\n",
    "X, y = make_regression(n_samples=100, n_features=5, noise=0.1)\n",
    "\n",
    "# Split data\n",
    "X_train, X_test, y_train, y_test = train_test_split(X, y, test_size=0.2, random_state=42)\n",
    "\n",
    "# Create pipeline\n",
    "pipeline = make_pipeline(StandardScaler(), LinearRegression())\n",
    "pipeline.fit(X_train, y_train)\n",
    "\n",
    "# Print R-squared score\n",
    "print(\"R-squared score:\", pipeline.score(X_test, y_test))\n"
   ]
  },
  {
   "cell_type": "markdown",
   "id": "a809c5fa-d3f2-428d-8ee1-902c9380744f",
   "metadata": {},
   "source": [
    "17. Write a Python script that performs polynomial regression (degree 3) on a synthetic dataset and plots the\n",
    "regression curve."
   ]
  },
  {
   "cell_type": "code",
   "execution_count": null,
   "id": "fc3bf114-b82d-45c9-8b23-b25a1cf25d17",
   "metadata": {},
   "outputs": [],
   "source": [
    "import numpy as np\n",
    "import matplotlib.pyplot as plt\n",
    "from sklearn.preprocessing import PolynomialFeatures\n",
    "from sklearn.linear_model import LinearRegression\n",
    "\n",
    "# Generate synthetic data\n",
    "X = np.random.rand(100, 1) * 10\n",
    "y = 3 * X**3 - 2 * X**2 + np.random.randn(100, 1)\n",
    "\n",
    "# Polynomial features (degree 3)\n",
    "poly = PolynomialFeatures(degree=3)\n",
    "X_poly = poly.fit_transform(X)\n",
    "\n",
    "# Fit model\n",
    "model = LinearRegression()\n",
    "model.fit(X_poly, y)\n",
    "\n",
    "# Visualize data and polynomial regression curve\n",
    "plt.scatter(X, y, color='blue')\n",
    "plt.plot(np.sort(X, axis=0), model.predict(poly.transform(np.sort(X, axis=0))), color='red')\n",
    "plt.xlabel('X')\n",
    "plt.ylabel('y')\n",
    "plt.title('Polynomial Regression (Degree 3)')\n",
    "plt.show()\n"
   ]
  },
  {
   "cell_type": "markdown",
   "id": "1ba2b963-869b-47c7-81b1-d0ba716dfdc4",
   "metadata": {},
   "source": [
    "18. Write a Python script that performs multiple linear regression on a synthetic dataset with 5 features. Print\n",
    "the R-squared score and model coefficients."
   ]
  },
  {
   "cell_type": "code",
   "execution_count": null,
   "id": "e10d7a21-32cb-4a53-9e15-b7ccb8ed10e0",
   "metadata": {},
   "outputs": [],
   "source": [
    "import numpy as np\n",
    "from sklearn.linear_model import LinearRegression\n",
    "from sklearn.metrics import r2_score\n",
    "\n",
    "# Generate synthetic data\n",
    "X = np.random.rand(100, 5)  # 100 samples, 5 features\n",
    "y = 3 * X[:, 0] + 2 * X[:, 1] - X[:, 2] + 4 * X[:, 3] - 2 * X[:, 4] + np.random.randn(100)\n",
    "\n",
    "# Fit model\n",
    "model = LinearRegression()\n",
    "model.fit(X, y)\n",
    "\n",
    "# Print R-squared score and coefficients\n",
    "print(\"R-squared score:\", r2_score(y, model.predict(X)))\n",
    "print(\"Coefficients:\", model.coef_)\n"
   ]
  },
  {
   "cell_type": "markdown",
   "id": "505da299-453c-4278-ae53-4958bedb9e26",
   "metadata": {},
   "source": [
    "19. Write a Python script that generates synthetic data for linear regression, fits a model, and visualizes the\n",
    "data points along with the regression line."
   ]
  },
  {
   "cell_type": "code",
   "execution_count": null,
   "id": "803bcfb7-96fe-4b81-ac1b-b0265a0a9248",
   "metadata": {},
   "outputs": [],
   "source": [
    "import numpy as np\n",
    "import matplotlib.pyplot as plt\n",
    "from sklearn.linear_model import LinearRegression\n",
    "\n",
    "# Generate synthetic data\n",
    "X = np.random.rand(100, 1) * 10\n",
    "y = 5 * X + 3 + np.random.randn(100, 1)\n",
    "\n",
    "# Fit model\n",
    "model = LinearRegression()\n",
    "model.fit(X, y)\n",
    "\n",
    "# Visualize data and regression line\n",
    "plt.scatter(X, y, color='blue')\n",
    "plt.plot(X, model.predict(X), color='red')\n",
    "plt.xlabel('X')\n",
    "plt.ylabel('y')\n",
    "plt.title('Linear Regression')\n",
    "plt.show()\n"
   ]
  },
  {
   "cell_type": "markdown",
   "id": "6975d50f-a766-4e66-9c77-70d949590161",
   "metadata": {},
   "source": [
    "20. Create a synthetic dataset with 3 features and perform multiple linear regression. Print the model's Rsquared score and coefficients."
   ]
  },
  {
   "cell_type": "code",
   "execution_count": null,
   "id": "525ad56c-cbbf-4227-81f8-710667a67102",
   "metadata": {},
   "outputs": [],
   "source": [
    "import numpy as np\n",
    "from sklearn.linear_model import LinearRegression\n",
    "from sklearn.metrics import r2_score\n",
    "\n",
    "# Generate synthetic data\n",
    "X = np.random.rand(100, 3)  # 100 samples, 3 features\n",
    "y = 3 * X[:, 0] + 2 * X[:, 1] - X[:, 2] + np.random.randn(100)\n",
    "\n",
    "# Fit model\n",
    "model = LinearRegression()\n",
    "model.fit(X, y)\n",
    "\n",
    "# Print R-squared score and coefficients\n",
    "print(\"R-squared score:\", r2_score(y, model.predict(X)))\n",
    "print(\"Coefficients:\", model.coef_)\n"
   ]
  },
  {
   "cell_type": "markdown",
   "id": "17cb8c34-f8e3-410d-895e-1f583e1a4df1",
   "metadata": {},
   "source": [
    "21. Write a Python script that demonstrates how to serialize and deserialize machine learning models using\n",
    "joblib instead of pickling."
   ]
  },
  {
   "cell_type": "code",
   "execution_count": null,
   "id": "e5ac15e6-24d9-4830-ab17-92cfceb9da12",
   "metadata": {},
   "outputs": [],
   "source": [
    "import joblib\n",
    "from sklearn.linear_model import LinearRegression\n",
    "\n",
    "# Generate synthetic data\n",
    "X = np.random.rand(100, 1) * 10\n",
    "y = 3 * X + 5 + np.random.randn(100, 1)\n",
    "\n",
    "# Fit model\n",
    "model = LinearRegression()\n",
    "model.fit(X, y)\n",
    "\n",
    "# Save the model using joblib\n",
    "joblib.dump(model, 'linear_model.pkl')\n",
    "\n",
    "# Load the model\n",
    "loaded_model = joblib.load('linear_model.pkl')\n",
    "\n",
    "# Make predictions with the loaded model\n",
    "print(\"Predictions:\", loaded_model.predict(X[:5]))\n"
   ]
  },
  {
   "cell_type": "markdown",
   "id": "6e8127e9-498d-49f5-afc8-cef7241594f4",
   "metadata": {},
   "source": [
    "22. Write a Python script to perform linear regression with categorical features using one-hot encoding. Use\n",
    "the Seaborn 'tips' dataset."
   ]
  },
  {
   "cell_type": "code",
   "execution_count": null,
   "id": "720cdd37-6161-4055-beba-1bb7ee495b5b",
   "metadata": {},
   "outputs": [],
   "source": [
    "import seaborn as sns\n",
    "import pandas as pd\n",
    "from sklearn.linear_model import LinearRegression\n",
    "from sklearn.model_selection import train_test_split\n",
    "from sklearn.preprocessing import OneHotEncoder\n",
    "\n",
    "# Load dataset\n",
    "tips = sns.load_dataset('tips')\n",
    "\n",
    "# One-hot encode categorical features\n",
    "tips_encoded = pd.get_dummies(tips, drop_first=True)\n",
    "\n",
    "# Features and target\n",
    "X = tips_encoded.drop('tip', axis=1)\n",
    "y = tips_encoded['tip']\n",
    "\n",
    "# Split data\n",
    "X_train, X_test, y_train, y_test = train_test_split(X, y, test_size=0.2, random_state=42)\n",
    "\n",
    "# Fit model\n",
    "model = LinearRegression()\n",
    "model.fit(X_train, y_train)\n",
    "\n",
    "# Print R-squared score\n",
    "print(\"R-squared score:\", model.score(X_test, y_test))\n"
   ]
  },
  {
   "cell_type": "markdown",
   "id": "fb9bd7f9-5631-4b77-8679-96ec9572fc3a",
   "metadata": {},
   "source": [
    "23. Compare Ridge Regression with Linear Regression on a synthetic dataset and print the coefficients and Rsquared score."
   ]
  },
  {
   "cell_type": "code",
   "execution_count": null,
   "id": "491813e7-3e38-4257-973b-afe2513d7a05",
   "metadata": {},
   "outputs": [],
   "source": [
    "import numpy as np\n",
    "from sklearn.linear_model import Ridge, LinearRegression\n",
    "from sklearn.metrics import r2_score\n",
    "\n",
    "# Generate synthetic data\n",
    "X = np.random.rand(100, 3)\n",
    "y = 3 * X[:, 0] + 2 * X[:, 1] - X[:, 2] + np.random.randn(100)\n",
    "\n",
    "# Linear Regression\n",
    "lin_reg = LinearRegression()\n",
    "lin_reg.fit(X, y)\n",
    "lin_reg_pred = lin_reg.predict(X)\n",
    "\n",
    "# Ridge Regression\n",
    "ridge_reg = Ridge(alpha=1.0)\n",
    "ridge_reg.fit(X, y)\n",
    "ridge_reg_pred = ridge_reg.predict(X)\n",
    "\n",
    "# Compare coefficients and R-squared score\n",
    "print(\"Linear Regression coefficients:\", lin_reg.coef_)\n",
    "print(\"Ridge Regression coefficients:\", ridge_reg.coef_)\n",
    "print(\"Linear Regression R-squared:\", r2_score(y, lin_reg_pred))\n",
    "print(\"Ridge Regression R-squared:\", r2_score(y, ridge_reg_pred))\n"
   ]
  },
  {
   "cell_type": "markdown",
   "id": "7f71acc9-b5d6-4367-9414-7c23853a4ecd",
   "metadata": {},
   "source": [
    "24. Write a Python script that uses cross-validation to evaluate a Linear Regression model on a synthetic\n",
    "dataset."
   ]
  },
  {
   "cell_type": "code",
   "execution_count": null,
   "id": "4270d9a6-7ed7-495f-86d4-50f7eecb2a4b",
   "metadata": {},
   "outputs": [],
   "source": [
    "import numpy as np\n",
    "from sklearn.linear_model import LinearRegression\n",
    "from sklearn.model_selection import cross_val_score\n",
    "\n",
    "# Generate synthetic data\n",
    "X = np.random.rand(100, 3)\n",
    "y = 3 * X[:, 0] + 2 * X[:, 1] - X[:, 2] + np.random.randn(100)\n",
    "\n",
    "# Create model\n",
    "model = LinearRegression()\n",
    "\n",
    "# Cross-validation\n",
    "cv_scores = cross_val_score(model, X, y, cv=5)\n",
    "\n",
    "# Print cross-validation results\n",
    "print(\"Cross-validation scores:\", cv_scores)\n",
    "print(\"Mean cross-validation score:\", cv_scores.mean())\n"
   ]
  },
  {
   "cell_type": "markdown",
   "id": "cba00233-9cd6-47b8-9bcf-d05dea859e5c",
   "metadata": {},
   "source": [
    "25. Write a Python script that compares polynomial regression models of different degrees and prints the Rsquared score for each"
   ]
  },
  {
   "cell_type": "code",
   "execution_count": null,
   "id": "d8f935b2-230c-4c91-9946-73fe75016e34",
   "metadata": {},
   "outputs": [],
   "source": [
    "import numpy as np\n",
    "import matplotlib.pyplot as plt\n",
    "from sklearn.preprocessing import PolynomialFeatures\n",
    "from sklearn.linear_model import LinearRegression\n",
    "from sklearn.metrics import r2_score\n",
    "\n",
    "# Generate synthetic data\n",
    "X = np.random.rand(100, 1) * 10\n",
    "y = 2 * X**3 + 3 * X**2 - 4 * X + np.random.randn(100, 1)\n",
    "\n",
    "# Try polynomial degrees from 1 to 5\n",
    "for degree in range(1, 6):\n",
    "    poly = PolynomialFeatures(degree)\n",
    "    X_poly = poly.fit_transform(X)\n",
    "    \n",
    "    model = LinearRegression()\n",
    "    model.fit(X_poly, y)\n",
    "    \n",
    "    # Plot results\n",
    "    plt.figure(figsize=(6, 4))\n",
    "    plt.scatter(X, y, color='blue')\n",
    "    plt.plot(np.sort(X, axis=0), model.predict(poly.transform(np.sort(X, axis=0))), color='red')\n",
    "    plt.title(f'Polynomial Regression (Degree {degree})')\n",
    "    plt.xlabel('X')\n",
    "    plt.ylabel('y')\n",
    "    plt.show()\n",
    "    \n",
    "    # Print R-squared score\n",
    "    print(f\"Degree {degree} R-squared:\", r2_score(y, model.predict(X_poly)))\n",
    "S"
   ]
  }
 ],
 "metadata": {
  "kernelspec": {
   "display_name": "Python 3 (ipykernel)",
   "language": "python",
   "name": "python3"
  },
  "language_info": {
   "codemirror_mode": {
    "name": "ipython",
    "version": 3
   },
   "file_extension": ".py",
   "mimetype": "text/x-python",
   "name": "python",
   "nbconvert_exporter": "python",
   "pygments_lexer": "ipython3",
   "version": "3.12.4"
  }
 },
 "nbformat": 4,
 "nbformat_minor": 5
}
